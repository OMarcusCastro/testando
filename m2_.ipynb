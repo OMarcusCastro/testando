{
 "cells": [
  {
   "attachments": {},
   "cell_type": "markdown",
   "metadata": {},
   "source": [
    "# Aula "
   ]
  }
 ],
 "metadata": {
  "kernelspec": {
   "display_name": "Python 3",
   "language": "python",
   "name": "python3"
  },
  "language_info": {
   "name": "python",
   "version": "3.10.9"
  },
  "orig_nbformat": 4,
  "vscode": {
   "interpreter": {
    "hash": "f112950c38ad72dbb2e27d92ba4d8863a5d2f923498579fa7794dd5d536ea2ce"
   }
  }
 },
 "nbformat": 4,
 "nbformat_minor": 2
}
